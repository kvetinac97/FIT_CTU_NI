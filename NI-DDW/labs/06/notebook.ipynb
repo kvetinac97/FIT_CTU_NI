{
 "cells": [
  {
   "cell_type": "markdown",
   "metadata": {
    "tags": []
   },
   "source": [
    "### DDW - Recommender Systems"
   ]
  },
  {
   "cell_type": "code",
   "execution_count": 48,
   "metadata": {},
   "outputs": [],
   "source": [
    "import pandas as pd\n",
    "import numpy as np\n",
    "import math"
   ]
  },
  {
   "cell_type": "code",
   "execution_count": 20,
   "metadata": {},
   "outputs": [],
   "source": [
    "def load_data(file=\"small-dataset\"):\n",
    "    data = pd.read_csv(f\"data/{file}.csv\", header=None).set_index(0).replace(0, np.nan)\n",
    "    return data"
   ]
  },
  {
   "cell_type": "code",
   "execution_count": 54,
   "metadata": {},
   "outputs": [
    {
     "name": "stdout",
     "output_type": "stream",
     "text": [
      "         1    2    3  4  5    6\n",
      "0                              \n",
      "us     7.0  6.0  7.0  4  5  4.0\n",
      "as     6.0  7.0  NaN  4  3  4.0\n",
      "uas    NaN  3.0  3.0  1  1  NaN\n",
      "usda   1.0  2.0  2.0  3  3  4.0\n",
      "ufsds  1.0  NaN  1.0  2  3  3.0\n"
     ]
    }
   ],
   "source": [
    "data = load_data()\n",
    "print(data)"
   ]
  },
  {
   "cell_type": "code",
   "execution_count": 160,
   "metadata": {},
   "outputs": [],
   "source": [
    "def cosine_sim(v1, v2):\n",
    "    idxs = np.intersect1d(v1.dropna().index, v2.dropna().index)\n",
    "    A = np.sum(v1 * v2)\n",
    "    B = math.sqrt(np.sum((v1*v1).loc[idxs]))*math.sqrt(np.sum((v2*v2).loc[idxs]))\n",
    "    return A/B"
   ]
  },
  {
   "cell_type": "code",
   "execution_count": 69,
   "metadata": {},
   "outputs": [
    {
     "data": {
      "text/plain": [
       "0.6446583712203042"
      ]
     },
     "execution_count": 69,
     "metadata": {},
     "output_type": "execute_result"
    }
   ],
   "source": [
    "cosine_sim(data.iloc[4], data.iloc[2])"
   ]
  },
  {
   "cell_type": "code",
   "execution_count": 159,
   "metadata": {},
   "outputs": [],
   "source": [
    "def pearson_sim(v1, v2):\n",
    "    idxs = np.intersect1d(v1.dropna().index, v2.dropna().index)\n",
    "    mv1 = np.mean(v1.loc[v1.dropna().index])\n",
    "    mv2 = np.mean(v2.loc[v2.dropna().index])\n",
    "    A = np.sum((v1.loc[idxs]-mv1)*(v2.loc[idxs]-mv2))\n",
    "    B = math.sqrt(np.sum((v1.loc[idxs]-mv1)*(v1.loc[idxs]-mv1)))*math.sqrt(np.sum((v2.loc[idxs]-mv2)*(v2.loc[idxs]-mv2)))\n",
    "    return A/B"
   ]
  },
  {
   "cell_type": "code",
   "execution_count": 73,
   "metadata": {},
   "outputs": [
    {
     "data": {
      "text/plain": [
       "0.8944271909999159"
      ]
     },
     "execution_count": 73,
     "metadata": {},
     "output_type": "execute_result"
    }
   ],
   "source": [
    "pearson_sim(data.iloc[0], data.iloc[2])"
   ]
  },
  {
   "cell_type": "code",
   "execution_count": 95,
   "metadata": {},
   "outputs": [],
   "source": [
    "def kNN(data, ix, k=2, fn=cosine_sim):\n",
    "    vec = data.loc[ix]\n",
    "    sim = data.apply(lambda v: fn(v, vec), axis=1).sort_values(ascending=False).head(k+1).index.values\n",
    "    return np.setdiff1d(sim, ix)"
   ]
  },
  {
   "cell_type": "code",
   "execution_count": 97,
   "metadata": {},
   "outputs": [
    {
     "name": "stdout",
     "output_type": "stream",
     "text": [
      "['as' 'us']\n"
     ]
    }
   ],
   "source": [
    "print(kNN(data, 'uas'))"
   ]
  },
  {
   "cell_type": "code",
   "execution_count": 129,
   "metadata": {},
   "outputs": [],
   "source": [
    "def recommendations(data, ix, k=2, top=2, fn=cosine_sim):\n",
    "    sim = kNN(data, ix, k, fn)\n",
    "    cand = data.columns[np.where(data.loc[ix].isna())]\n",
    "    pred = np.mean(data.loc[sim, cand], axis=0)\n",
    "    return pred.sort_values(ascending=False).head(top).index.values"
   ]
  },
  {
   "cell_type": "code",
   "execution_count": 110,
   "metadata": {},
   "outputs": [
    {
     "name": "stdout",
     "output_type": "stream",
     "text": [
      "[1 6]\n"
     ]
    }
   ],
   "source": [
    "print(recommendations(data, 'uas'))"
   ]
  },
  {
   "cell_type": "markdown",
   "metadata": {
    "tags": []
   },
   "source": [
    "### Part two"
   ]
  },
  {
   "cell_type": "code",
   "execution_count": 117,
   "metadata": {},
   "outputs": [],
   "source": [
    "ml = pd.read_csv(\"data/ml-latest-small/ratings.csv\")\n",
    "\n",
    "# dá do řádků uživatele, do sloupců filmy a do buněk hodnoty\n",
    "ml_data = ml.pivot(index=\"userId\", columns=\"movieId\", values=\"rating\")"
   ]
  },
  {
   "cell_type": "code",
   "execution_count": 177,
   "metadata": {},
   "outputs": [
    {
     "name": "stdout",
     "output_type": "stream",
     "text": [
      "[6620 1575 1734  309 1730 1719  327 5812 1658 1620]\n"
     ]
    },
    {
     "data": {
      "text/html": [
       "<div>\n",
       "<style scoped>\n",
       "    .dataframe tbody tr th:only-of-type {\n",
       "        vertical-align: middle;\n",
       "    }\n",
       "\n",
       "    .dataframe tbody tr th {\n",
       "        vertical-align: top;\n",
       "    }\n",
       "\n",
       "    .dataframe thead th {\n",
       "        text-align: right;\n",
       "    }\n",
       "</style>\n",
       "<table border=\"1\" class=\"dataframe\">\n",
       "  <thead>\n",
       "    <tr style=\"text-align: right;\">\n",
       "      <th></th>\n",
       "      <th>movieId</th>\n",
       "      <th>title</th>\n",
       "      <th>genres</th>\n",
       "    </tr>\n",
       "  </thead>\n",
       "  <tbody>\n",
       "    <tr>\n",
       "      <th>277</th>\n",
       "      <td>309</td>\n",
       "      <td>Red Firecracker, Green Firecracker (Pao Da Shu...</td>\n",
       "      <td>Drama</td>\n",
       "    </tr>\n",
       "    <tr>\n",
       "      <th>292</th>\n",
       "      <td>327</td>\n",
       "      <td>Tank Girl (1995)</td>\n",
       "      <td>Action|Comedy|Sci-Fi</td>\n",
       "    </tr>\n",
       "    <tr>\n",
       "      <th>1252</th>\n",
       "      <td>1575</td>\n",
       "      <td>Gabbeh (1996)</td>\n",
       "      <td>Drama</td>\n",
       "    </tr>\n",
       "    <tr>\n",
       "      <th>1290</th>\n",
       "      <td>1620</td>\n",
       "      <td>Kiss the Girls (1997)</td>\n",
       "      <td>Crime|Drama|Mystery|Thriller</td>\n",
       "    </tr>\n",
       "    <tr>\n",
       "      <th>1319</th>\n",
       "      <td>1658</td>\n",
       "      <td>Life Less Ordinary, A (1997)</td>\n",
       "      <td>Romance|Thriller</td>\n",
       "    </tr>\n",
       "    <tr>\n",
       "      <th>1358</th>\n",
       "      <td>1719</td>\n",
       "      <td>Sweet Hereafter, The (1997)</td>\n",
       "      <td>Drama</td>\n",
       "    </tr>\n",
       "    <tr>\n",
       "      <th>1365</th>\n",
       "      <td>1730</td>\n",
       "      <td>Kundun (1997)</td>\n",
       "      <td>Drama</td>\n",
       "    </tr>\n",
       "    <tr>\n",
       "      <th>1369</th>\n",
       "      <td>1734</td>\n",
       "      <td>My Life in Pink (Ma vie en rose) (1997)</td>\n",
       "      <td>Comedy|Drama</td>\n",
       "    </tr>\n",
       "    <tr>\n",
       "      <th>4323</th>\n",
       "      <td>5812</td>\n",
       "      <td>Far from Heaven (2002)</td>\n",
       "      <td>Drama|Romance</td>\n",
       "    </tr>\n",
       "    <tr>\n",
       "      <th>4730</th>\n",
       "      <td>6620</td>\n",
       "      <td>American Splendor (2003)</td>\n",
       "      <td>Comedy|Drama</td>\n",
       "    </tr>\n",
       "  </tbody>\n",
       "</table>\n",
       "</div>"
      ],
      "text/plain": [
       "      movieId                                              title  \\\n",
       "277       309  Red Firecracker, Green Firecracker (Pao Da Shu...   \n",
       "292       327                                   Tank Girl (1995)   \n",
       "1252     1575                                      Gabbeh (1996)   \n",
       "1290     1620                              Kiss the Girls (1997)   \n",
       "1319     1658                       Life Less Ordinary, A (1997)   \n",
       "1358     1719                        Sweet Hereafter, The (1997)   \n",
       "1365     1730                                      Kundun (1997)   \n",
       "1369     1734            My Life in Pink (Ma vie en rose) (1997)   \n",
       "4323     5812                             Far from Heaven (2002)   \n",
       "4730     6620                           American Splendor (2003)   \n",
       "\n",
       "                            genres  \n",
       "277                          Drama  \n",
       "292           Action|Comedy|Sci-Fi  \n",
       "1252                         Drama  \n",
       "1290  Crime|Drama|Mystery|Thriller  \n",
       "1319              Romance|Thriller  \n",
       "1358                         Drama  \n",
       "1365                         Drama  \n",
       "1369                  Comedy|Drama  \n",
       "4323                 Drama|Romance  \n",
       "4730                  Comedy|Drama  "
      ]
     },
     "execution_count": 177,
     "metadata": {},
     "output_type": "execute_result"
    }
   ],
   "source": [
    "userId = 1\n",
    "\n",
    "import warnings\n",
    "warnings.filterwarnings(\"ignore\")\n",
    "rec = recommendations(ml_data, userId, k=30, top=10)\n",
    "print(rec)\n",
    "\n",
    "history = ml[ml['userId']==userId]['movieId'].index.values\n",
    "ml_movies = pd.read_csv(\"data/ml-latest-small/movies.csv\")\n",
    "ml_movies[~(ml_movies[\"movieId\"].isin(history)) & ml_movies[\"movieId\"].isin(rec)]"
   ]
  }
 ],
 "metadata": {
  "anaconda-cloud": {},
  "kernelspec": {
   "display_name": "Python 3 (ipykernel)",
   "language": "python",
   "name": "python3"
  },
  "language_info": {
   "codemirror_mode": {
    "name": "ipython",
    "version": 3
   },
   "file_extension": ".py",
   "mimetype": "text/x-python",
   "name": "python",
   "nbconvert_exporter": "python",
   "pygments_lexer": "ipython3",
   "version": "3.10.6"
  }
 },
 "nbformat": 4,
 "nbformat_minor": 4
}
